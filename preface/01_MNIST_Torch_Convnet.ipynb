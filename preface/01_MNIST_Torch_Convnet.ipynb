{
 "cells": [
  {
   "cell_type": "code",
   "execution_count": 146,
   "id": "ce046100-5ab4-4f81-a163-7dbb41ed0ff5",
   "metadata": {},
   "outputs": [
    {
     "name": "stdout",
     "output_type": "stream",
     "text": [
      "3.6.0\n",
      "X_train: (60000, 28, 28)\n",
      "Y_train: (60000,)\n",
      "X_test:  (10000, 28, 28)\n",
      "Y_test:  (10000,)\n"
     ]
    },
    {
     "data": {
      "image/png": "[encoded data removed]",
      "text/plain": [
       "<Figure size 1500x500 with 9 Axes>"
      ]
     },
     "metadata": {},
     "output_type": "display_data"
    }
   ],
   "source": [
    "\"\"\"\n",
    "    Creating a convolutional neural network to classify MNIST images.\n",
    "\"\"\"\n",
    "\n",
    "import os\n",
    "\n",
    "os.environ[\"KERAS_BACKEND\"] = \"torch\"\n",
    "\n",
    "import keras\n",
    "import numpy as np\n",
    "\n",
    "print(keras.__version__)\n",
    "\n",
    "from matplotlib import pyplot as plt\n",
    "\n",
    "with np.load(\"./mnist.npz\", allow_pickle=True) as f:\n",
    "    X_train, y_train = f[\"x_train\"], f[\"y_train\"]\n",
    "    X_test, y_test = f[\"x_test\"], f[\"y_test\"]\n",
    "\n",
    "print('X_train: ' + str(X_train.shape))\n",
    "print('Y_train: ' + str(y_train.shape))\n",
    "print('X_test:  ' + str(X_test.shape))\n",
    "print('Y_test:  ' + str(y_test.shape))\n",
    "\n",
    "plt.figure(figsize=(15, 5))\n",
    "for i in range(9):\n",
    "    plt.subplot(330 + 1 + i)\n",
    "    plt.imshow(X_train[i], cmap=plt.get_cmap('gray'))\n",
    "plt.show()\n"
   ]
  },
  {
   "cell_type": "code",
   "execution_count": 147,
   "id": "21664692-ba7f-41bd-a88b-7f7e9e9f1952",
   "metadata": {},
   "outputs": [
    {
     "data": {
      "text/plain": [
       "((60000, 28, 28), (10000, 28, 28))"
      ]
     },
     "execution_count": 147,
     "metadata": {},
     "output_type": "execute_result"
    }
   ],
   "source": [
    "X_train.shape, X_test.shape"
   ]
  },
  {
   "cell_type": "code",
   "execution_count": 148,
   "id": "b6b2f439-da42-40cb-8624-993cbc14b31b",
   "metadata": {},
   "outputs": [
    {
     "data": {
      "text/plain": [
       "(28, 28)"
      ]
     },
     "execution_count": 148,
     "metadata": {},
     "output_type": "execute_result"
    }
   ],
   "source": [
    "X_train[0].shape"
   ]
  },
  {
   "cell_type": "code",
   "execution_count": 149,
   "id": "4b3479db-c07a-42e2-b35a-b84aa4eccb00",
   "metadata": {},
   "outputs": [],
   "source": [
    "X_train = X_train.reshape((60000, 1, 28, 28))\n",
    "X_test = X_test.reshape((10000, 1, 28, 28))"
   ]
  },
  {
   "cell_type": "code",
   "execution_count": 150,
   "id": "6891e45b-df6e-470e-a580-499451246bde",
   "metadata": {},
   "outputs": [],
   "source": [
    "import argparse\n",
    "import torch\n",
    "import torch.nn as nn\n",
    "import torch.nn.functional as F\n",
    "import torch.optim as optim\n",
    "from torchvision import datasets, transforms\n",
    "from torch.optim.lr_scheduler import StepLR"
   ]
  },
  {
   "cell_type": "code",
   "execution_count": 151,
   "id": "a25733f6-1b9b-4f96-a064-2533b15b6e77",
   "metadata": {},
   "outputs": [],
   "source": [
    "import torch.nn as nn"
   ]
  },
  {
   "cell_type": "code",
   "execution_count": 185,
   "id": "5e506406-7585-4cae-8b7f-8ae05636c0ae",
   "metadata": {},
   "outputs": [],
   "source": [
    "class Net(nn.Module):\n",
    "    def __init__(self):\n",
    "        super(Net, self).__init__()\n",
    "        self.conv1 = nn.Conv2d(in_channels=1, out_channels=32, kernel_size=3, stride=1, padding=1)\n",
    "        self.conv2 = nn.Conv2d(in_channels=32, out_channels=64, kernel_size=3, stride=1, padding=1)\n",
    "        self.pool = nn.MaxPool2d(kernel_size=2, stride=2, padding=0)\n",
    "        self.fc1 = nn.Linear(64 * 7 * 7, 128)\n",
    "        self.fc2 = nn.Linear(128, 10)  # Assuming 10 classes for classification\n",
    "\n",
    "    def forward(self, x):\n",
    "        x = self.pool(F.relu(self.conv1(x)))\n",
    "        x = self.pool(F.relu(self.conv2(x)))\n",
    "        x = x.view(-1, 64 * 7 * 7)  # Flatten the tensor\n",
    "        x = F.relu(self.fc1(x))\n",
    "        x = self.fc2(x)\n",
    "        return x"
   ]
  },
  {
   "cell_type": "code",
   "execution_count": 186,
   "id": "e23a2302-b455-42a7-b7ab-c62f5e82c691",
   "metadata": {},
   "outputs": [],
   "source": [
    "def train(model, device, train_loader, optimizer, epoch, log_interval=10, dry_run=True):\n",
    "    model.train()\n",
    "    for batch_idx, (data, target) in enumerate(train_loader):\n",
    "        data, target = data.to(device), target.to(device)\n",
    "        optimizer.zero_grad()\n",
    "        output = model(data)\n",
    "        loss = F.nll_loss(output, target)\n",
    "        loss.backward()\n",
    "        optimizer.step()\n",
    "        if batch_idx % log_interval == 0:\n",
    "            print('Train Epoch: {} [{}/{} ({:.0f}%)]\\tLoss: {:.6f}'.format(\n",
    "                epoch, batch_idx * len(data), len(train_loader.dataset),\n",
    "                100. * batch_idx / len(train_loader), loss.item()))\n",
    "            if dry_run:\n",
    "                break"
   ]
  },
  {
   "cell_type": "code",
   "execution_count": 187,
   "id": "559e985d-5d08-4fd8-a1c1-e5f676b455f6",
   "metadata": {},
   "outputs": [],
   "source": [
    "def test(model, device, test_loader):\n",
    "    model.eval()\n",
    "    test_loss = 0\n",
    "    correct = 0\n",
    "    with torch.no_grad():\n",
    "        for data, target in test_loader:\n",
    "            data, target = data.to(device), target.to(device)\n",
    "            output = model(data)\n",
    "            test_loss += F.nll_loss(output, target, reduction='sum').item()  # sum up batch loss\n",
    "            pred = output.argmax(dim=1, keepdim=True)  # get the index of the max log-probability\n",
    "            correct += pred.eq(target.view_as(pred)).sum().item()\n",
    "\n",
    "    test_loss /= len(test_loader.dataset)\n",
    "\n",
    "    print('\\nTest set: Average loss: {:.4f}, Accuracy: {}/{} ({:.0f}%)\\n'.format(\n",
    "        test_loss, correct, len(test_loader.dataset),\n",
    "        100. * correct / len(test_loader.dataset)))"
   ]
  },
  {
   "cell_type": "code",
   "execution_count": 188,
   "id": "6ec0f390-877b-45bb-9646-966217dcfb7a",
   "metadata": {},
   "outputs": [],
   "source": [
    "use_mps = torch.backends.mps.is_available()"
   ]
  },
  {
   "cell_type": "code",
   "execution_count": 189,
   "id": "b6b77599-e332-4381-a1bb-22d69935a662",
   "metadata": {},
   "outputs": [],
   "source": [
    "device = torch.device(\"mps\")"
   ]
  },
  {
   "cell_type": "code",
   "execution_count": 197,
   "id": "4e150362-28be-4164-9cfb-d28936e8a52e",
   "metadata": {},
   "outputs": [],
   "source": [
    "train_transformed = transform(torch.from_numpy(X_train).float())\n",
    "val_transformed = transform(torch.from_numpy(X_test).float())"
   ]
  },
  {
   "cell_type": "code",
   "execution_count": 198,
   "id": "b1ab2877-b602-49f9-b915-4d5daf33f44a",
   "metadata": {},
   "outputs": [],
   "source": [
    "train_dataset = torch.utils.data.TensorDataset(train_transformed, torch.from_numpy(y_train).float())\n",
    "val_dataset = torch.utils.data.TensorDataset(val_transformed, torch.from_numpy(y_test).float())"
   ]
  },
  {
   "cell_type": "code",
   "execution_count": 199,
   "id": "48dc3266-c3bb-4a71-b97e-7d14dce16adc",
   "metadata": {},
   "outputs": [],
   "source": [
    "train_loader = torch.utils.data.DataLoader(train_dataset,batch_size=32)\n",
    "test_loader = torch.utils.data.DataLoader(val_dataset,batch_size=32)"
   ]
  },
  {
   "cell_type": "code",
   "execution_count": 200,
   "id": "d931600a-8c1f-4293-babd-d5db888c2ba6",
   "metadata": {},
   "outputs": [],
   "source": [
    "model = Net().to(device)\n",
    "criterion = nn.CrossEntropyLoss()\n",
    "optimizer = optim.Adadelta(model.parameters(), lr=0.001)"
   ]
  },
  {
   "cell_type": "code",
   "execution_count": 201,
   "id": "a00aa5ad-7729-4851-9a36-f69b67ec8774",
   "metadata": {},
   "outputs": [
    {
     "name": "stdout",
     "output_type": "stream",
     "text": [
      "Train Epoch: 1 [0/60000 (0%)]\tLoss: -2.448486\n",
      "\n",
      "Test set: Average loss: -8.3303, Accuracy: 850/10000 (8%)\n",
      "\n",
      "Train Epoch: 2 [0/60000 (0%)]\tLoss: -2.871221\n",
      "\n",
      "Test set: Average loss: -8.6365, Accuracy: 855/10000 (9%)\n",
      "\n",
      "Train Epoch: 3 [0/60000 (0%)]\tLoss: -3.303332\n",
      "\n",
      "Test set: Average loss: -8.9529, Accuracy: 861/10000 (9%)\n",
      "\n",
      "Train Epoch: 4 [0/60000 (0%)]\tLoss: -3.741862\n",
      "\n",
      "Test set: Average loss: -9.2644, Accuracy: 873/10000 (9%)\n",
      "\n",
      "Train Epoch: 5 [0/60000 (0%)]\tLoss: -4.186673\n",
      "\n",
      "Test set: Average loss: -9.5772, Accuracy: 883/10000 (9%)\n",
      "\n",
      "Train Epoch: 6 [0/60000 (0%)]\tLoss: -4.637578\n",
      "\n",
      "Test set: Average loss: -9.8977, Accuracy: 888/10000 (9%)\n",
      "\n",
      "Train Epoch: 7 [0/60000 (0%)]\tLoss: -5.098066\n",
      "\n",
      "Test set: Average loss: -10.2163, Accuracy: 897/10000 (9%)\n",
      "\n",
      "Train Epoch: 8 [0/60000 (0%)]\tLoss: -5.564154\n",
      "\n",
      "Test set: Average loss: -10.5434, Accuracy: 905/10000 (9%)\n",
      "\n",
      "Train Epoch: 9 [0/60000 (0%)]\tLoss: -6.030770\n",
      "\n",
      "Test set: Average loss: -10.8682, Accuracy: 915/10000 (9%)\n",
      "\n",
      "Train Epoch: 10 [0/60000 (0%)]\tLoss: -6.499241\n",
      "\n",
      "Test set: Average loss: -11.2029, Accuracy: 931/10000 (9%)\n",
      "\n"
     ]
    }
   ],
   "source": [
    "epochs = 10\n",
    "\n",
    "for epoch in range(1, epochs + 1):\n",
    "    train(model, device, train_loader, optimizer, epoch)\n",
    "    test(model, device, test_loader)\n",
    "    scheduler.step()"
   ]
  },
  {
   "cell_type": "code",
   "execution_count": 196,
   "id": "88221be4-3550-4f24-9b70-e3a0c0f4e5d6",
   "metadata": {},
   "outputs": [],
   "source": [
    "torch.save(model.state_dict(), \"mnist_cnn.pt\")"
   ]
  }
 ],
 "metadata": {
  "kernelspec": {
   "display_name": "Python 3 (ipykernel)",
   "language": "python",
   "name": "python3"
  },
  "language_info": {
   "codemirror_mode": {
    "name": "ipython",
    "version": 3
   },
   "file_extension": ".py",
   "mimetype": "text/x-python",
   "name": "python",
   "nbconvert_exporter": "python",
   "pygments_lexer": "ipython3",
   "version": "3.11.6"
  }
 },
 "nbformat": 4,
 "nbformat_minor": 5
}
